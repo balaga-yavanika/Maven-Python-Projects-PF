{
 "cells": [
  {
   "cell_type": "markdown",
   "id": "bf83716b-ff33-42d5-ab76-f948f6a05097",
   "metadata": {},
   "source": [
    "# Electricity Usage Analysis\n",
    "project by: Yavanika"
   ]
  },
  {
   "cell_type": "code",
   "execution_count": 6,
   "id": "5deb8d5c-8ffc-41a0-aaf9-68e38fd81273",
   "metadata": {},
   "outputs": [
    {
     "name": "stdout",
     "output_type": "stream",
     "text": [
      "<class 'pandas.core.frame.DataFrame'>\n",
      "RangeIndex: 52416 entries, 0 to 52415\n",
      "Data columns (total 4 columns):\n",
      " #   Column                  Non-Null Count  Dtype  \n",
      "---  ------                  --------------  -----  \n",
      " 0   Datetime                52416 non-null  object \n",
      " 1   PowerConsumption_Zone1  52416 non-null  float64\n",
      " 2   PowerConsumption_Zone2  52416 non-null  float64\n",
      " 3   PowerConsumption_Zone3  52416 non-null  float64\n",
      "dtypes: float64(3), object(1)\n",
      "memory usage: 1.6+ MB\n"
     ]
    }
   ],
   "source": [
    "import pandas as pd\n",
    "\n",
    "# pconsum = pd.read_csv(\"powerconsumption.csv\")\n",
    "\n",
    "pconsum = pd.read_csv(\n",
    "    \"powerconsumption.csv\",\n",
    "    usecols=[\"Datetime\",\"PowerConsumption_Zone1\",\"PowerConsumption_Zone2\",\"PowerConsumption_Zone3\",])\n",
    "\n",
    "pconsum.head()\n",
    "pconsum.info()"
   ]
  }
 ],
 "metadata": {
  "kernelspec": {
   "display_name": "Python 3 (ipykernel)",
   "language": "python",
   "name": "python3"
  },
  "language_info": {
   "codemirror_mode": {
    "name": "ipython",
    "version": 3
   },
   "file_extension": ".py",
   "mimetype": "text/x-python",
   "name": "python",
   "nbconvert_exporter": "python",
   "pygments_lexer": "ipython3",
   "version": "3.13.7"
  }
 },
 "nbformat": 4,
 "nbformat_minor": 5
}
